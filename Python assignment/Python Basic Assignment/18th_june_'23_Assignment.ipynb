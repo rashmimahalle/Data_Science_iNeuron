{
 "cells": [
  {
   "cell_type": "markdown",
   "id": "eff53e9e",
   "metadata": {},
   "source": [
    "                             18th_june_'23_Assignment\n"
   ]
  },
  {
   "cell_type": "markdown",
   "id": "ef8f2e4d",
   "metadata": {},
   "source": [
    "#### 1. What is the role of the 'else' block in a try-except statement? Provide an example scenario where it would be useful."
   ]
  },
  {
   "cell_type": "markdown",
   "id": "ffbcd582",
   "metadata": {},
   "source": [
    "In a try-except statement, the 'else' block is an optional part that follows the 'try' and 'except' blocks. Its purpose is to specify a block of code that should be executed if no exceptions are raised within the 'try' block.\n",
    "\n",
    "The general syntax of a try-except-else statement is as follows:\n",
    "\n",
    "python\n",
    "\n",
    "try: # Code that may raise an exception except ExceptionType: # Code to handle the exception else: # Code to be executed if no exceptions are raised\n",
    "\n",
    "example:"
   ]
  },
  {
   "cell_type": "code",
   "execution_count": 1,
   "id": "49a94a92",
   "metadata": {},
   "outputs": [],
   "source": [
    "def divide(a, b):\n",
    "    try:\n",
    "        result = a / b\n",
    "    except ZeroDivisionError:\n",
    "        print(\"Error: Division by zero\")\n",
    "    else:\n",
    "        print(\"The result of the division is:\", result)"
   ]
  },
  {
   "cell_type": "code",
   "execution_count": 2,
   "id": "e0e4158e",
   "metadata": {},
   "outputs": [
    {
     "name": "stdout",
     "output_type": "stream",
     "text": [
      "The result of the division is: 0.75\n"
     ]
    }
   ],
   "source": [
    "divide(6, 8)"
   ]
  },
  {
   "cell_type": "markdown",
   "id": "60a22045",
   "metadata": {},
   "source": [
    "#### 2. Can a try-except block be nested inside another try-except block? Explain with an example."
   ]
  },
  {
   "cell_type": "markdown",
   "id": "06d1034d",
   "metadata": {},
   "source": [
    "Yes, a try-except block can indeed be nested inside another try-except block. This is known as nested exception handling. It allows for more granular handling of exceptions in different parts of the code."
   ]
  },
  {
   "cell_type": "code",
   "execution_count": 4,
   "id": "7eb64555",
   "metadata": {},
   "outputs": [],
   "source": [
    "def divide(c, d):\n",
    "    try:\n",
    "        result = c / d\n",
    "        print(\"The result of the division is:\", result)\n",
    "    except ZeroDivisionError:\n",
    "        print(\"Error: Division by zero\")\n",
    "    except TypeError:\n",
    "        try:\n",
    "            result = c / int(d)\n",
    "            print(\"The result of the division (using the integer conversion of d) is:\", result)\n",
    "        except ValueError:\n",
    "            print(\"Error: Invalid input for d\")"
   ]
  },
  {
   "cell_type": "code",
   "execution_count": 5,
   "id": "caff9e88",
   "metadata": {},
   "outputs": [
    {
     "name": "stdout",
     "output_type": "stream",
     "text": [
      "The result of the division is: 0.75\n"
     ]
    }
   ],
   "source": [
    "divide(3, 4)"
   ]
  },
  {
   "cell_type": "markdown",
   "id": "44bc5bd9",
   "metadata": {},
   "source": [
    "#### 3. How can you create a custom exception class in Python? Provide an example that demonstrates its usage."
   ]
  },
  {
   "cell_type": "code",
   "execution_count": 8,
   "id": "4b77ccfd",
   "metadata": {},
   "outputs": [
    {
     "name": "stdout",
     "output_type": "stream",
     "text": [
      "CustomException: Cannot divide by zero.\n"
     ]
    }
   ],
   "source": [
    "class CustomException(Exception):\n",
    "    def __init__(self, message):\n",
    "        self.message = message\n",
    "        super().__init__(self.message)\n",
    "\n",
    "    def __str__(self):\n",
    "        return f\"CustomException: {self.message}\"\n",
    "\n",
    "def divide(a, b):\n",
    "    if b == 0:\n",
    "        raise CustomException(\"Cannot divide by zero.\")\n",
    "    return a / b\n",
    "\n",
    "\n",
    "try:\n",
    "    result = divide(10, 0)\n",
    "    print(\"The result of the division is:\", result)\n",
    "except CustomException as d:\n",
    "    print(d)"
   ]
  },
  {
   "cell_type": "markdown",
   "id": "c42c367a",
   "metadata": {},
   "source": [
    "#### 4. What are some common exceptions that are built-in to Python?"
   ]
  },
  {
   "cell_type": "markdown",
   "id": "f8f98600",
   "metadata": {},
   "source": [
    "Python provides a wide range of built-in exceptions that cover various common error scenarios. Here are some commonly used built-in exceptions in Python:\n",
    "\n",
    "TypeError: Raised when an operation or function is applied to an object of an inappropriate type.\n",
    "\n",
    "ValueError: Raised when a function receives an argument of the correct type but an inappropriate value.\n",
    "\n",
    "NameError: Raised when a local or global name is not found.\n",
    "\n",
    "IndexError: Raised when a sequence subscript is out of range.\n",
    "\n",
    "KeyError: Raised when a dictionary key is not found.\n",
    "\n",
    "FileNotFoundError: Raised when a file or directory is requested but cannot be found.\n",
    "\n",
    "IOError: Raised when an I/O operation fails (e.g., opening or reading a file).\n",
    "\n",
    "ZeroDivisionError: Raised when division or modulo operation is performed with zero as the divisor.\n",
    "\n",
    "AttributeError: Raised when an attribute reference or assignment fails.\n",
    "\n",
    "ImportError: Raised when an import statement fails to find the specified module.\n",
    "\n",
    "These are just a few examples, and Python provides many more built-in exceptions to handle different error conditions. Each exception has its own specific purpose and can be caught and handled separately to provide appropriate error handling and feedback.\n",
    "\n",
    "It's important to note that these exceptions are part of the base Python language, and additional libraries or frameworks may introduce their own custom exceptions for more specialized error handling."
   ]
  },
  {
   "cell_type": "markdown",
   "id": "fda3f372",
   "metadata": {},
   "source": [
    "#### 5. What is logging in Python, and why is it important in software development?"
   ]
  },
  {
   "cell_type": "markdown",
   "id": "e850fe35",
   "metadata": {},
   "source": [
    "Logging in Python refers to the process of generating log messages during the execution of a program. It involves capturing and storing relevant information about the program's behavior, events, errors, and other diagnostic details. The Python standard library provides a powerful logging module that enables developers to incorporate logging capabilities into their applications easily.\n",
    "\n",
    "Logging is essential in software development for several reasons:\n",
    "\n",
    "Debugging and Troubleshooting: Logging allows developers to track the flow of their program and identify issues or errors during execution. By logging relevant information, such as variable values, function calls, and error messages, developers can better understand what went wrong and debug their code effectively.\n",
    "\n",
    "Error Reporting and Analysis: When errors or exceptions occur in a production environment, logging becomes crucial for capturing and reporting these incidents. Logs can provide valuable insights into the root causes of errors, helping developers diagnose issues, reproduce problems, and implement fixes.\n",
    "\n",
    "Monitoring and Performance Optimization: Logging can be used to track the performance of an application, including execution times, resource usage, and other metrics. By analyzing the logs, developers can identify performance bottlenecks, optimize critical sections of the code, and improve the overall efficiency of the application.\n",
    "\n",
    "Auditing and Compliance: In certain domains, such as finance or healthcare, logging plays a vital role in compliance with regulations. Logging sensitive operations, user actions, or data access helps ensure accountability, traceability, and securityLogging sensitive operations, user actions, or data access helps ensure accountability, traceability, and security of the system. Logs can be used to audit user activities and detect any suspicious or unauthorized behavior.\n",
    "\n",
    "Historical Analysis and Reporting: Logs serve as a historical record of events and actions within an application. They can be used for data analysis, generating reports, and identifying patterns or trends over time. This information can be valuable for making informed decisions, tracking system behavior, and planning future improvements.\n",
    "\n",
    "By incorporating logging into their code, developers can gain visibility into the behavior of their applications, simplify troubleshooting, and enhance the overall reliability and maintainability of their software. Effective logging practices contribute to better error handling, system monitoring, and continuous improvement of software applications."
   ]
  },
  {
   "cell_type": "markdown",
   "id": "7595cc5c",
   "metadata": {},
   "source": [
    "#### 6. Explain the purpose of log levels in Python logging and provide examples of when each log level would be appropriate."
   ]
  },
  {
   "cell_type": "markdown",
   "id": "795ca991",
   "metadata": {},
   "source": [
    "In Python logging, log levels are used to categorize and prioritize log messages based on their severity or importance. The logging module provides several predefined log levels, each serving a specific purpose. The purpose of log levels is to allow developers to control the verbosity of log output and filter messages based on their importance.\n",
    "\n",
    "Here are the standard log levels in Python logging, in increasing order of severity:\n",
    "\n",
    "DEBUG: The lowest log level, used for detailed diagnostic information during development or debugging. It is typically used for messages that provide insight into the internal workings of the program, variable values, and intermediate results. Example usage: Logging detailed function call information or variable values for debugging purposes.\n",
    "\n",
    "INFO: Used to confirm that things are working as expected. INFO-level messages provide general information about the progress of the program. It is often used to indicate major milestones or significant events in the application's execution. Example usage: Logging application startup information or successful completion of a task.\n",
    "\n",
    "WARNING: Indicates that something unexpected or potentially problematic has occurred, but the program can still continue. It highlights conditions that could be errors or potential sources of errors. It is typically used to capture issues that might require attention but do not prevent the program from functioning. Example usage: Logging deprecated function usage or non-critical configuration warnings.\n",
    "\n",
    "ERROR: Indicates the occurrence of an error that prevented a particular operation or task from completing. It represents more severe issues that should be addressed and may impact the program's functionality. Example usage: Logging exceptions, database connection failures, or invalid user inputs.\n",
    "\n",
    "CRITICAL: The highest log level, representing critical errors or failures that may lead to the termination of the program. It indicates severe issues that require immediate attention. Example usage: Logging unrecoverable errors, system crashes, or security breaches.\n",
    "\n",
    "The selection of an appropriate log level depends on the context and purpose of logging in your application. By using different log levels, you can control the amount of information generated by the logs and tailor it to the specific needs of your application and environment. It allows you to focus on the most relevant log messages during development, debugging, and production.\n",
    "\n",
    "When configuring logging, you can specify a minimum log level, and any messages at that level or higher will be emitted. Messages at lower levels will be filtered out. This provides flexibility in customizing the log output based on the desired level of detail or the severity of the situation at hand."
   ]
  },
  {
   "cell_type": "markdown",
   "id": "170dcd55",
   "metadata": {},
   "source": [
    "#### 7. What are log formatters in Python logging, and how can you customise the log message format using formatters?"
   ]
  },
  {
   "cell_type": "markdown",
   "id": "dc024365",
   "metadata": {},
   "source": [
    "In Python logging, log formatters are used to define the structure and content of log messages. A log formatter specifies how the log records should be formatted before being outputted to a specified destination, such as a file, console, or a logging handler.\n",
    "\n",
    "The logging module provides a default formatter called logging.Formatter, but you can also create custom formatters by subclassing this class. The formatters are responsible for converting log records into a formatted string representation.\n",
    "\n",
    "To customize the log message format using formatters, you can follow these steps:\n",
    "\n",
    "Import the necessary modules:\n",
    "\n",
    "import logging\n",
    "\n",
    "Create an instance of the formatter class:\n",
    "\n",
    "formatter = logging.Formatter('%(asctime)s - %(name)s - %(levelname)s - %(message)s')\n",
    "\n",
    "In this example, we use the logging.Formatter class and pass a format string as an argument. The format string contains specific placeholders that will be replaced with the appropriate values from the log record. Here, %(asctime)srepresents the timestamp,%(name)s represents the logger name, %(levelname)srepresents the log level, and%(message)s represents the log message.\n",
    "\n",
    "Configure the formatter for the desired logging handler:\n",
    "\n",
    "handler = logging.StreamHandler() # Example handler, can be replaced with the desired handler\n",
    "\n",
    "handler.setFormatter(formatter)\n",
    "\n",
    "In this example, we use a logging.StreamHandler() to handle the log records and set the formatter on the handler using setFormatter().\n",
    "\n",
    "Add the handler to the logger and set the desired log level:\n",
    "\n",
    "logger = logging.getLogger('my_logger')\n",
    "\n",
    "logger.addHandler(handler)\n",
    "\n",
    "logger.setLevel(logging.DEBUG)\n",
    "\n",
    "Here, my_logger is the name of the logger. You can replace it with the name of your logger. The handler is added to the logger using addHandler(), and the log level is set to logging.DEBUG for illustrative purposes.\n",
    "\n",
    "By customizing the format string in the formatter, you can include various placeholders to capture different aspects of the log record, such as timestamp, log level, logger name, module name, function name, and more. The available placeholders are documented in the Python logging module documentation.\n",
    "\n",
    "Customizing the log message format using formatters allows you to control the structure, content, and style of the log messages. It helps in standardizing log formats across your application, enhancing readability, and providing relevant information for effective log analysis and troubleshooting."
   ]
  },
  {
   "cell_type": "markdown",
   "id": "d3704ce0",
   "metadata": {},
   "source": [
    "#### 8. How can you set up logging to capture log messages from multiple modules or classes in a Python application?"
   ]
  },
  {
   "cell_type": "markdown",
   "id": "bbf06f17",
   "metadata": {},
   "source": [
    "To set up logging to capture log messages from multiple modules or classes in a Python application, you can follow these steps:\n",
    "\n",
    "Import the necessary modules:\n",
    "\n",
    "import logging\n",
    "\n",
    "Set the root logger's log level (optional):\n",
    "\n",
    "logging.getLogger().setLevel(logging.DEBUG)\n",
    "\n",
    "This step is optional and sets the log level for the root logger. By default, the root logger's log level is set to WARNING. Adjust this level according to your needs.\n",
    "\n",
    "Configure a logging handler:\n",
    "\n",
    "handler = logging.StreamHandler() # Example handler, can be replaced with the desired handler\n",
    "\n",
    "In this example, we use a logging.StreamHandler() to handle the log records. You can replace it with the desired handler, such as a logging.FileHandler for writing logs to a file.\n",
    "\n",
    "Create a formatter for the log records:\n",
    "\n",
    "formatter = logging.Formatter('%(asctime)s - %(name)s - %(levelname)s - %(message)s')\n",
    "\n",
    "handler.setFormatter(formatter)\n",
    "Create a formatter using the desired log message format, similar to what was explained in the previous response. Assign the formatter to the handler using setFormatter().\n",
    "\n",
    "Add the handler to each desired logger:\n",
    "\n",
    "logger1 = logging.getLogger('module1')\n",
    "\n",
    "logger1.addHandler(handler)\n",
    "\n",
    "logger2 = logging.getLogger('module2')\n",
    "\n",
    "logger2.addHandler(handler)\n",
    "\n",
    "Create separate logger instances for each module or class you want to capture logs from. Use the getLogger() method and pass a unique name for each logger (e.g., module name or class name). Add the handler to each logger using addHandler().\n",
    "\n",
    "Set the log levels for individual loggers (optional):\n",
    "\n",
    "logger1.setLevel(logging.DEBUG)\n",
    "\n",
    "logger2.setLevel(logging.INFO)\n",
    "\n",
    "Set the log levels for individual loggers as per your requirements. By default, loggers inherit the log level from the root logger.\n",
    "\n",
    "Now, you can use the loggers logger1 and logger2 in their respective modules or classes to capture logs. The logs will be directed to the configured handler, and the formatter will format them based on the specified format string.\n",
    "\n",
    "By setting up loggers for different modules or classes and adding the same handler to each logger, you can capture logs from multiple parts of your Python application. This allows you to have granular control over logging configurations and separate log messages based on their source, making it easier to analyze and troubleshoot specific components of your application.\n",
    "\n"
   ]
  },
  {
   "cell_type": "markdown",
   "id": "dbb51471",
   "metadata": {},
   "source": [
    "#### 9. What is the difference between the logging and print statements in Python? When should you use logging over print statements in a real-world application?"
   ]
  },
  {
   "cell_type": "markdown",
   "id": "e45bbe06",
   "metadata": {},
   "source": [
    "The logging and print statements in Python serve different purposes and have distinct characteristics. Here are the key differences between logging and print statements:\n",
    "\n",
    "Output Destination: The print statement sends the output directly to the standard output (usually the console), while the logging module allows you to send log messages to various destinations such as files, databases, network sockets, or custom handlers.\n",
    "\n",
    "Control and Flexibility: The logging module provides granular control over log levels, allowing you to categorize and prioritize log messages. You can configure different log levels for different parts of your code, filter log messages based on severity, and easily adjust the verbosity of logging. On the other hand, print statements do not offer this level of control or flexibility. They are mainly used for simple output without any structured categorization or filtering.\n",
    "\n",
    "Log Levels and Severity: The logging module provides multiple log levels (e.g., DEBUG, INFO, WARNING, ERROR, CRITICAL), allowing you to differentiate between various levels of importance or severity. With print statements, all messages are treated equally, and there is no built-in mechanism to indicate the severity of a message.\n",
    "\n",
    "Runtime Impact: print statements are typically used for debugging or temporary output during development. However, if you forget to remove or disable them in production code, they can significantly impact performance and clutter the output.  The logging module is designed for more robust and scalable logging, allowing you to enable or disable logging selectively and configure the output as desired\n",
    "\n",
    "Considering these differences, you should prefer using the logging module over print statements in real-world applications, especially for production code. Here are a few reasons why logging is preferred:\n",
    "\n",
    "Structured Output: Logging allows you to structure log messages with useful information such as timestamps, log levels, source modules, and error stack traces. This aids in better understanding and analysis of the logged events.\n",
    "\n",
    "Controlled Output: With logging, you can easily configure different log levels and filter out less important messages. This allows you to focus on relevant information and ignore or minimize noisy output.\n",
    "\n",
    "Debugging and Troubleshooting: Logging provides a standardized approach for capturing and analyzing runtime events, errors, and exceptions. It allows you to track the flow of your program and provides valuable information for debugging and troubleshooting issues.\n",
    "\n",
    "Log Persistence and Centralized Logging: The logging module allows you to persist log messages to files or other storage systems, facilitating long-term analysis and auditing. Additionally, logging enables centralized logging in distributed systems, where logs from multiple sources are collected and analyzed in a central location.\n",
    "\n",
    "Overall, logging provides a more robust, structured, and customizable approach to capturing and managing runtime events, making it a better choice over print statements for real-world applications, especially when it comes to maintainability, scalability, and troubleshooting."
   ]
  },
  {
   "cell_type": "markdown",
   "id": "f09d1c3f",
   "metadata": {},
   "source": [
    "#### 10. Write a Python program that logs a message to a file named \"app.log\" with the following requirements:\n",
    "● The log message should be \"Hello, World!\"\n",
    "\n",
    "● The log level should be set to \"INFO.\"\n",
    "\n",
    "● The log file should append new log entries without overwriting previous ones."
   ]
  },
  {
   "cell_type": "code",
   "execution_count": 10,
   "id": "bd2b5872",
   "metadata": {},
   "outputs": [],
   "source": [
    "import logging\n",
    "\n",
    "# Configure logging to write to a file\n",
    "logging.basicConfig(filename='app.log', filemode='a', level=logging.INFO)\n",
    "\n",
    "# Log the message\n",
    "logging.info('Hello, World!')"
   ]
  },
  {
   "cell_type": "markdown",
   "id": "96d1dfdb",
   "metadata": {},
   "source": [
    "In this example:\n",
    "\n",
    "The basicConfig() function from the logging module is used to configure logging. The filename parameter specifies the name of the log file, which is set to \"app.log\" in this case. The filemode parameter is set to 'a' to append new log entries to the existing file without overwriting previous ones. The level parameter is set to logging.INFO to set the log level to \"INFO.\" The logging.info() function is used to log the message \"Hello, World!\" at the \"INFO\" log level.\n",
    "\n",
    "When you run this program, it will create a file named \"app.log\" if it doesn't already exist and append the log message \"Hello, World!\" to the file. Subsequent runs of the program will append new log entries to the same file without overwriting the previous ones."
   ]
  },
  {
   "cell_type": "markdown",
   "id": "8f964f98",
   "metadata": {},
   "source": [
    "#### 11. Create a Python program that logs an error message to the console and a file named\"errors.log\" if an exception occurs during the program's execution. The error message should include the exception type and a timestamp."
   ]
  },
  {
   "cell_type": "code",
   "execution_count": 11,
   "id": "502fa991",
   "metadata": {},
   "outputs": [],
   "source": [
    "import logging\n",
    "import datetime\n",
    "\n",
    "# Configure logging to write to the console\n",
    "logging.basicConfig(level=logging.ERROR)\n",
    "\n",
    "# Configure logging to write to a file\n",
    "file_handler = logging.FileHandler('errors.log')\n",
    "file_handler.setLevel(logging.ERROR)\n",
    "file_formatter = logging.Formatter('%(asctime)s - %(levelname)s - %(message)s')\n",
    "file_handler.setFormatter(file_formatter)\n",
    "logging.getLogger().addHandler(file_handler)\n",
    "\n",
    "try:\n",
    "    # Your code that may raise an exception\n",
    "    raise ValueError(\"An example exception\")\n",
    "except Exception as e:\n",
    "    # Log the exception with timestamp\n",
    "    error_msg = f\"Exception type: {type(e).__name__}, Timestamp: {datetime.datetime.now()}\"\n",
    "    logging.error(error_msg)"
   ]
  },
  {
   "cell_type": "markdown",
   "id": "4437aa55",
   "metadata": {},
   "source": [
    "In this example:\n",
    "\n",
    "The logging module is imported to handle logging.\n",
    "\n",
    "The logging level is set to logging.ERROR using basicConfig() to ensure that only error-level messages are displayed in the console.\n",
    "\n",
    "A FileHandler is created to write error messages to the file \"errors.log\".\n",
    "\n",
    "The FileHandler's log level is set to logging.ERROR, ensuring that only error-level messages are written to the file.\n",
    "\n",
    "A custom formatter is defined to include the timestamp, log level, and error message in the desired format.\n",
    "\n",
    "The file handler is added to the root logger using addHandler() to ensure that error messages are written to the file.\n",
    "\n",
    "The code inside the try block is an example that intentionally raises a ValueError exception.\n",
    "\n",
    "If an exception occurs, it is caught in the except block, and the error message is logged using logging.error().\n",
    "\n",
    "The error message includes the exception type (type(e).name) and the current timestamp (datetime.datetime.now()).\n",
    "\n",
    "When you run this program and an exception occurs, it will log the error message to the console and append it to the file \"errors.log\".\n",
    "\n",
    "The error message will include the exception type and a timestamp."
   ]
  },
  {
   "cell_type": "code",
   "execution_count": null,
   "id": "d118d37a",
   "metadata": {},
   "outputs": [],
   "source": []
  }
 ],
 "metadata": {
  "kernelspec": {
   "display_name": "Python 3 (ipykernel)",
   "language": "python",
   "name": "python3"
  },
  "language_info": {
   "codemirror_mode": {
    "name": "ipython",
    "version": 3
   },
   "file_extension": ".py",
   "mimetype": "text/x-python",
   "name": "python",
   "nbconvert_exporter": "python",
   "pygments_lexer": "ipython3",
   "version": "3.11.5"
  }
 },
 "nbformat": 4,
 "nbformat_minor": 5
}
