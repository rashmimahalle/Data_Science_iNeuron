{
 "cells": [
  {
   "cell_type": "markdown",
   "id": "835986e9",
   "metadata": {},
   "source": [
    "                                    17th_June_'23_Assignment"
   ]
  },
  {
   "cell_type": "markdown",
   "id": "1bac824d",
   "metadata": {},
   "source": [
    "#### 1. What is the role of try and exception block?"
   ]
  },
  {
   "cell_type": "markdown",
   "id": "571f0901",
   "metadata": {},
   "source": [
    "try block: The code within the try block contains the statements that may potentially raise an exception. It allows you to specify the section of code that you want to monitor for exceptions.\n",
    "\n",
    "except block: If an exception occurs within the try block, the corresponding except block(s) are executed. The except block allows you to define the actions or code that should be executed when a specific exception is raised. You can have multiple except blocks to handle different types of exceptions."
   ]
  },
  {
   "cell_type": "markdown",
   "id": "27707d1e",
   "metadata": {},
   "source": [
    "#### 2. What is the syntax for a basic try-except block?"
   ]
  },
  {
   "cell_type": "code",
   "execution_count": 1,
   "id": "75ae5721",
   "metadata": {},
   "outputs": [
    {
     "name": "stdout",
     "output_type": "stream",
     "text": [
      "Enter an int dividend: 6\n",
      "Enter an int divisor: 5\n",
      "1.2\n"
     ]
    }
   ],
   "source": [
    "try:\n",
    "    dividend = int(input('Enter an int dividend: '))\n",
    "    divisor = int(input('Enter an int divisor: '))\n",
    "    quotient = dividend/divisor\n",
    "    print(quotient)\n",
    "except ZeroDivisionError:\n",
    "    print('Division by 0 is not defined')\n",
    "     "
   ]
  },
  {
   "cell_type": "markdown",
   "id": "7d798c26",
   "metadata": {},
   "source": [
    "#### 3. What happens if an exception occurs inside a try block and there is no matching except block?"
   ]
  },
  {
   "cell_type": "markdown",
   "id": "4a745995",
   "metadata": {},
   "source": [
    "If an exception occurs inside a try block and there is no matching except block to handle that specific exception, the exception will propagate up the call stack until it is caught by an appropriate exception handler or until it reaches the top level of the program.\n",
    "\n",
    "If the exception is not caught anywhere in the program, it will be considered an \"unhandled exception,\" and the program will terminate. In most programming languages, an unhandled exception typically results in the display of an error message or a stack trace, providing information about the exception and its location in the code.\n",
    "\n",
    "It is generally recommended to have appropriate exception handling in place to catch and handle exceptions within a program. This allows for graceful error handling, logging, and potentially taking corrective actions, rather than abruptly terminating the program."
   ]
  },
  {
   "cell_type": "markdown",
   "id": "c54ecfdc",
   "metadata": {},
   "source": [
    "#### 4. What is the difference between using a bare except block and specifying a specificexception type?"
   ]
  },
  {
   "cell_type": "markdown",
   "id": "937a75e4",
   "metadata": {},
   "source": [
    "In Python, there is a difference between using a bare except block and specifying a specific exception type. Let's explore these differences:\n",
    "\n",
    "Bare except block:\n",
    "\n",
    "A bare except block is used to catch all types of exceptions that may occur within the try block. When an exception occurs, if there is a bare except block present, it will catch the exception regardless of its type. This can be useful in certain situations where you want to catch any type of exception and perform a generic error handling routine. However, using a bare except block is generally discouraged because it can catch and hide unexpected errors, making it harder to diagnose and fix issues in the code. It is recommended to use specific exception handlers whenever possible to handle different types of exceptions appropriately.\n",
    "\n",
    "Specifying a specific exception type:\n",
    "\n",
    "Instead of using a bare except block, you can specify the type of exception you want to handle by using an except block followed by the exception class. For example, except ValueError: will catch only ValueError exceptions. This allows you to handle specific exceptions in a more targeted manner, providing specialized error handling based on the type of exception. By specifying the exception type, you can differentiate between different types of exceptions and handle them accordingly. It also helps in maintaining code clarity and allows you to catch and handle different exceptions differently.\n",
    "\n",
    "In summary, while a bare except block can catch any type of exception, it is generally recommended to use specific exception handlers whenever possible. This allows for more precise error handling and makes it easier to debug and maintain the code."
   ]
  },
  {
   "cell_type": "markdown",
   "id": "e0ec3afc",
   "metadata": {},
   "source": [
    "#### 5. Can you have nested try-except blocks in Python? If yes, then give an example."
   ]
  },
  {
   "cell_type": "code",
   "execution_count": 3,
   "id": "c22719f0",
   "metadata": {},
   "outputs": [
    {
     "name": "stdout",
     "output_type": "stream",
     "text": [
      "Outer try block\n",
      "Inner try block\n",
      "Enter an int dividend: 2\n",
      "Enter Zero as divisor: 0\n",
      "Caught ZeroDivisionError in inner try-except block\n",
      "Inner finally block\n",
      "End\n"
     ]
    }
   ],
   "source": [
    "try:\n",
    "    # Outer block\n",
    "    print(\"Outer try block\")\n",
    "\n",
    "    try:\n",
    "        # Inner block\n",
    "        print(\"Inner try block\")\n",
    "\n",
    "        dividend = int(input('Enter an int dividend: '))\n",
    "        divisor = int(input('Enter Zero as divisor: '))\n",
    "\n",
    "        quotient = dividend/divisor \n",
    "\n",
    "        print(\"Result:\", quotient)  \n",
    "    except ZeroDivisionError:\n",
    "        print(\"Caught ZeroDivisionError in inner try-except block\")\n",
    "    finally:\n",
    "        print(\"Inner finally block\")\n",
    "except:\n",
    "    print(\"Caught an exception in outer try-except block\")\n",
    "\n",
    "print(\"End\")"
   ]
  },
  {
   "cell_type": "markdown",
   "id": "20573b79",
   "metadata": {},
   "source": [
    "#### 6. Can we use multiple exception blocks, if yes then give an example."
   ]
  },
  {
   "cell_type": "code",
   "execution_count": 5,
   "id": "a0ab2cee",
   "metadata": {},
   "outputs": [
    {
     "name": "stdout",
     "output_type": "stream",
     "text": [
      "Enter an int dividend: 3\n",
      "Enter Zero as divisor: 0\n",
      "Caught ZeroDivisionError\n"
     ]
    }
   ],
   "source": [
    "try:\n",
    "    # Code that may raise exceptions\n",
    "    dividend = int(input('Enter an int dividend: '))\n",
    "    divisor = int(input('Enter Zero as divisor: '))\n",
    "\n",
    "    quotient = dividend/divisor # Raises ZeroDivisionError\n",
    "\n",
    "    print(\"Result:\", quotient)  \n",
    "except ZeroDivisionError:\n",
    "    print(\"Caught ZeroDivisionError\")\n",
    "except ValueError:\n",
    "    print(\"Caught ValueError\")\n",
    "except:\n",
    "    print(\"Caught an exception\")\n"
   ]
  },
  {
   "cell_type": "markdown",
   "id": "cd780fd0",
   "metadata": {},
   "source": [
    "#### 7. Write the reason due to which following errors are raised:\n",
    "a. EOFError\n",
    "\n",
    "b. FloatingPointError\n",
    "\n",
    "c. IndexError\n",
    "\n",
    "d. MemoryError\n",
    "\n",
    "e. OverflowError\n",
    "\n",
    "f. TabError\n",
    "\n",
    "g. ValueError"
   ]
  },
  {
   "cell_type": "markdown",
   "id": "a33a3868",
   "metadata": {},
   "source": [
    "a. EOFError: This error is raised when the built-in input() function hits the end-of-file condition (EOF) unexpectedly. It typically occurs when the input stream ends before the expected input is received. For example, if you are reading from a file and reach the end of the file without obtaining the required input.\n",
    "\n",
    "b. FloatingPointError: This error is raised when a floating-point operation fails to produce a valid result. It can occur due to various reasons, such as dividing by zero, taking the square root of a negative number, or performing an invalid mathematical operation on floating-point values.\n",
    "\n",
    "c. IndexError: This error is raised when you try to access an element in a sequence (e.g., list, tuple, string) using an invalid index. It occurs when the index is either negative or greater than or equal to the length of the sequence. Essentially, it indicates that the index used to access an element is out of range.\n",
    "\n",
    "d. MemoryError: This error is raised when an operation fails due to insufficient memory resources. It occurs when the program tries to allocate more memory than what is available in the system. This can happen when working with large datasets or when recursive functions consume too much memory.\n",
    "\n",
    "e. OverflowError: This error is raised when a mathematical operation exceeds the maximum representable value for a numeric type. It occurs when the result of an arithmetic operation is too large to be represented within the allowed range for that numeric type.\n",
    "\n",
    "f. TabError: This error is raised when there is an issue with the indentation of code using tabs and spaces inconsistently. It typically occurs when mixing tabs and spaces for indentation in a single code block, violating the Python syntax rules for indentation.\n",
    "\n",
    "g. ValueError: This error is raised when a function receives an argument of the correct type but an inappropriate value. It typically occurs when a function expects a certain range of values or specific conditions to be met, and the passed argument violates those expectations."
   ]
  },
  {
   "cell_type": "markdown",
   "id": "db199683",
   "metadata": {},
   "source": [
    "#### 8. Write code for the following given scenario and add try-exception block to it.\n",
    "a. Program to divide two numbers\n",
    "\n",
    "b. Program to convert a string to an integer\n",
    "\n",
    "c. Program to access an element in a list\n",
    "\n",
    "d. Program to handle a specific exception\n",
    "\n",
    "e. Program to handle any exception"
   ]
  },
  {
   "cell_type": "code",
   "execution_count": 6,
   "id": "ded906d1",
   "metadata": {},
   "outputs": [
    {
     "name": "stdout",
     "output_type": "stream",
     "text": [
      "Enter a number: 6\n",
      "Enter a number: 0\n",
      "Error: Division by zero is not defined\n"
     ]
    }
   ],
   "source": [
    "# a. Program to divide two numbers\n",
    "try:\n",
    "    n = int(input('Enter a number: '))\n",
    "    d = int(input('Enter a number: '))\n",
    "    result = n/d\n",
    "    print('Result:', result)\n",
    "except ZeroDivisionError:\n",
    "    print('Error: Division by zero is not defined')"
   ]
  },
  {
   "cell_type": "code",
   "execution_count": 10,
   "id": "141302d0",
   "metadata": {},
   "outputs": [
    {
     "name": "stdout",
     "output_type": "stream",
     "text": [
      "Enter number: 5\n",
      "Numbre: 5\n"
     ]
    }
   ],
   "source": [
    "# b. Program to convert a string to an integer.\n",
    "\n",
    "try:\n",
    "    str_num = input('Enter number: ')\n",
    "    num = int(str_num)\n",
    "    print('Numbre:', num)\n",
    "except ValueError:\n",
    "    print('Error: Invalid number entered')"
   ]
  },
  {
   "cell_type": "code",
   "execution_count": 11,
   "id": "34393693",
   "metadata": {},
   "outputs": [
    {
     "name": "stdout",
     "output_type": "stream",
     "text": [
      "Enter the index: 2\n",
      "The element in the index 2, is 3.\n"
     ]
    }
   ],
   "source": [
    "# c. Program to access an element in a list.\n",
    "\n",
    "try:\n",
    "    l = [1,2,3,4]\n",
    "    index = int(input('Enter the index: '))\n",
    "    element = l[index]\n",
    "    print(f'The element in the index {index}, is {element}.')\n",
    "except IndexError:\n",
    "    print('Error: The chosen index is out of range.')"
   ]
  },
  {
   "cell_type": "code",
   "execution_count": 12,
   "id": "8857c52b",
   "metadata": {},
   "outputs": [
    {
     "name": "stdout",
     "output_type": "stream",
     "text": [
      "Enter number: 4\n",
      "Enter a number: 5\n",
      "Error: Unsupported operant type\n"
     ]
    }
   ],
   "source": [
    "# d. Program to handle a specific exception.\n",
    "\n",
    "try:\n",
    "    str_num = input('Enter number: ')\n",
    "    den = int(input('Enter a number: '))\n",
    "    quotient = str_num/den\n",
    "    print('Result:', quotient)\n",
    "except TypeError:\n",
    "    print('Error: Unsupported operant type')"
   ]
  },
  {
   "cell_type": "code",
   "execution_count": 13,
   "id": "2e07840d",
   "metadata": {},
   "outputs": [
    {
     "ename": "SyntaxError",
     "evalue": "incomplete input (942004849.py, line 6)",
     "output_type": "error",
     "traceback": [
      "\u001b[1;36m  Cell \u001b[1;32mIn[13], line 6\u001b[1;36m\u001b[0m\n\u001b[1;33m    output = a/b\u001b[0m\n\u001b[1;37m                ^\u001b[0m\n\u001b[1;31mSyntaxError\u001b[0m\u001b[1;31m:\u001b[0m incomplete input\n"
     ]
    }
   ],
   "source": [
    "# e. Program to handle any exception.\n",
    "\n",
    "try:\n",
    "    a = 10\n",
    "    b = 0\n",
    "    output = a/b\n"
   ]
  },
  {
   "cell_type": "code",
   "execution_count": null,
   "id": "2fd164c3",
   "metadata": {},
   "outputs": [],
   "source": []
  }
 ],
 "metadata": {
  "kernelspec": {
   "display_name": "Python 3 (ipykernel)",
   "language": "python",
   "name": "python3"
  },
  "language_info": {
   "codemirror_mode": {
    "name": "ipython",
    "version": 3
   },
   "file_extension": ".py",
   "mimetype": "text/x-python",
   "name": "python",
   "nbconvert_exporter": "python",
   "pygments_lexer": "ipython3",
   "version": "3.11.5"
  }
 },
 "nbformat": 4,
 "nbformat_minor": 5
}
