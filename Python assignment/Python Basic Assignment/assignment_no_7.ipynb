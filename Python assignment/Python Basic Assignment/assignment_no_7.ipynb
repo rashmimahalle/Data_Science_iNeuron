{
 "cells": [
  {
   "cell_type": "markdown",
   "id": "40de0a35",
   "metadata": {},
   "source": [
    "                                      Assignment No 7\n",
    "                                        Solution"
   ]
  },
  {
   "cell_type": "markdown",
   "id": "627640cb",
   "metadata": {},
   "source": [
    "#### 1. Create two int type variables, apply addition, subtraction, division and multiplications\n",
    "and store the results in variables. Then print the data in the following format by calling the\n",
    "variables:\n",
    "\n",
    "First variable is __ & second variable is __.\n",
    "\n",
    "Addition: __ + __ = __\n",
    "\n",
    "Subtraction: __ - __ = __\n",
    "\n",
    "Multiplication: __ * __ = __\n",
    "\n",
    "Division: __ / __ = __"
   ]
  },
  {
   "cell_type": "code",
   "execution_count": 2,
   "id": "2b741b06",
   "metadata": {},
   "outputs": [
    {
     "name": "stdout",
     "output_type": "stream",
     "text": [
      "Addition: 5 + 10 = 15\n",
      "Subtraction: 5 - 10 = -5\n",
      "Multiplication: 5*10 = 50\n",
      "Division: 5/10 = 0.5\n"
     ]
    }
   ],
   "source": [
    "a = 5\n",
    "b = 10\n",
    "\n",
    "add = a + b\n",
    "sub = a - b\n",
    "mult = a*b\n",
    "div = a/b\n",
    "\n",
    "print(f'Addition: {a} + {b} = {add}')\n",
    "print(f'Subtraction: {a} - {b} = {sub}')\n",
    "print(f'Multiplication: {a}*{b} = {mult}')\n",
    "print(f'Division: {a}/{b} = {div}')"
   ]
  },
  {
   "cell_type": "markdown",
   "id": "a859c2a2",
   "metadata": {},
   "source": [
    "#### 2. What is the difference between the following operators:\n",
    "(i) ‘/’ & ‘//’\n",
    "\n",
    "(ii) ‘**’ & ‘^’"
   ]
  },
  {
   "cell_type": "markdown",
   "id": "1e869c17",
   "metadata": {},
   "source": [
    "Normal division (/) returns a fractional number\n",
    "\n",
    "floor division (//) truncates the decimal part and returns the quotient.\n",
    "\n",
    "For numeric data types, double-asterisk (**) is defined as an Exponentiation Operator\n",
    "    \n",
    "The (^) operator compares each bit and set it to 1 if only one is 1, otherwise (if both are 1 or both are 0) it is set to 0"
   ]
  },
  {
   "cell_type": "code",
   "execution_count": 6,
   "id": "bda2c993",
   "metadata": {},
   "outputs": [
    {
     "name": "stdout",
     "output_type": "stream",
     "text": [
      "The normal division of \"a\" and \"b\" is: 0.3333333333333333\n",
      "The floor division of \"a\" and \"b\" is: 0\n",
      "The exponetial operation of \"a\" and \"b\" is: 64\n",
      "The ^ operator sets each bit of \"a\" and \"b\" and is: 4\n"
     ]
    }
   ],
   "source": [
    "a = 2\n",
    "b = 6\n",
    "print(f'The normal division of \"a\" and \"b\" is: {a/b}')\n",
    "print(f'The floor division of \"a\" and \"b\" is: {a//b}')\n",
    "print(f'The exponetial operation of \"a\" and \"b\" is: {a**b}')\n",
    "print(f'The ^ operator sets each bit of \"a\" and \"b\" and is: {a^b}')"
   ]
  },
  {
   "cell_type": "markdown",
   "id": "dfc85b5e",
   "metadata": {},
   "source": [
    "#### 3. List the logical operators."
   ]
  },
  {
   "cell_type": "markdown",
   "id": "567f68f5",
   "metadata": {},
   "source": [
    "and: Returns True if both statements are true x < 5 and x < 10\n",
    "\n",
    "or: Returns True if one of the statements is true x < 5 or x < 4\n",
    "\n",
    "not: Reverse the result, returns False if the result is true not(x < 5 and x < 10)"
   ]
  },
  {
   "cell_type": "markdown",
   "id": "bc647ca6",
   "metadata": {},
   "source": [
    "#### 4. Explain right shift operator and left shift operator with examples."
   ]
  },
  {
   "cell_type": "markdown",
   "id": "d6369c10",
   "metadata": {},
   "source": [
    "(>>) Bitwise right shift\n",
    "\n",
    "The left operand’s value is moved toward right by the number of bits\n",
    "\n",
    "specified by the right operand. x>>\n",
    "\n",
    "(<<) Bitwise left shift\n",
    "\n",
    "The left operand’s value is moved toward left by the number of bits\n",
    "\n",
    "specified by the right operand. x<<"
   ]
  },
  {
   "cell_type": "code",
   "execution_count": 9,
   "id": "196aa3b1",
   "metadata": {},
   "outputs": [
    {
     "name": "stdout",
     "output_type": "stream",
     "text": [
      "a >> 1 = 2\n",
      "b >> 1 = -2\n"
     ]
    }
   ],
   "source": [
    "a = 4\n",
    "b =-4\n",
    " \n",
    "# print bitwise right shift operator\n",
    "print(\"a >> 1 =\", a >> 1)\n",
    "print(\"b >> 1 =\", b >> 1) \n"
   ]
  },
  {
   "cell_type": "code",
   "execution_count": 10,
   "id": "d39f82d8",
   "metadata": {},
   "outputs": [
    {
     "name": "stdout",
     "output_type": "stream",
     "text": [
      "a << 1 = 8\n",
      "b << 1 = -4\n"
     ]
    }
   ],
   "source": [
    "a = 4\n",
    "b = -2\n",
    " \n",
    "# print bitwise left shift operator\n",
    "print(\"a << 1 =\", a << 1)\n",
    "print(\"b << 1 =\", b << 1)\n",
    "     "
   ]
  },
  {
   "cell_type": "markdown",
   "id": "7cdb05ee",
   "metadata": {},
   "source": [
    "#### 5. Create a list containing int type data of length 15. Then write a code to check if 10 is present in the list or not."
   ]
  },
  {
   "cell_type": "code",
   "execution_count": 11,
   "id": "46e49fbf",
   "metadata": {},
   "outputs": [
    {
     "data": {
      "text/plain": [
       "[0, 1, 2, 3, 4, 5, 6, 7, 8, 9, 10, 11, 12, 13, 14]"
      ]
     },
     "execution_count": 11,
     "metadata": {},
     "output_type": "execute_result"
    }
   ],
   "source": [
    "li = [a for a in range(15)]\n",
    "li\n",
    "   "
   ]
  },
  {
   "cell_type": "code",
   "execution_count": 12,
   "id": "195d48ff",
   "metadata": {},
   "outputs": [
    {
     "name": "stdout",
     "output_type": "stream",
     "text": [
      "No 0 is not in the list\n",
      "No 1 is not in the list\n",
      "No 2 is not in the list\n",
      "No 3 is not in the list\n",
      "No 4 is not in the list\n",
      "No 5 is not in the list\n",
      "No 6 is not in the list\n",
      "No 7 is not in the list\n",
      "No 8 is not in the list\n",
      "No 9 is not in the list\n",
      "Yes here is the 10 you were looking for\n",
      "No 11 is not in the list\n",
      "No 12 is not in the list\n",
      "No 13 is not in the list\n",
      "No 14 is not in the list\n"
     ]
    }
   ],
   "source": [
    "num = 10\n",
    "\n",
    "for i in li:\n",
    "    if i == num:\n",
    "        print(f'Yes here is the {i} you were looking for')\n",
    "    else:\n",
    "        print(f'No {i} is not in the list')\n"
   ]
  },
  {
   "cell_type": "code",
   "execution_count": null,
   "id": "523be0db",
   "metadata": {},
   "outputs": [],
   "source": []
  }
 ],
 "metadata": {
  "kernelspec": {
   "display_name": "Python 3 (ipykernel)",
   "language": "python",
   "name": "python3"
  },
  "language_info": {
   "codemirror_mode": {
    "name": "ipython",
    "version": 3
   },
   "file_extension": ".py",
   "mimetype": "text/x-python",
   "name": "python",
   "nbconvert_exporter": "python",
   "pygments_lexer": "ipython3",
   "version": "3.11.5"
  }
 },
 "nbformat": 4,
 "nbformat_minor": 5
}
