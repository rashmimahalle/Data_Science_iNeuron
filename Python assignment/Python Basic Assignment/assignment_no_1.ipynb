{
 "cells": [
  {
   "cell_type": "markdown",
   "id": "e5132e44",
   "metadata": {},
   "source": [
    "                                                 Assignment No 1\n",
    "                                                   Solution"
   ]
  },
  {
   "cell_type": "markdown",
   "id": "8088fc07",
   "metadata": {},
   "source": [
    "#### 1. In the below elements which of them are values or an expression? eg:- values can be integer or string and expressions will be mathematical operators.\n",
    "\n",
    "Ans:  there are total 3 values and 4 expression and they are as follows:\n",
    "\n",
    "        Expressions :  *, - , /, +     \n",
    "        Values:   ‘hello’ , 87.8, 6\n",
    "\n"
   ]
  },
  {
   "cell_type": "markdown",
   "id": "7c220562",
   "metadata": {},
   "source": [
    "#### 2. What is the difference between string and variable?"
   ]
  },
  {
   "cell_type": "markdown",
   "id": "e157ab0a",
   "metadata": {},
   "source": [
    " Ans: an variable is used to store the data and string is a type od data that would be stored in    variable. A string is an group of characters or single character  specially enclosed in double quotes” ” or single  quotes ‘ ‘ \n",
    "\n",
    "example: name = “Rashmi” (where name is variable and Rashmi is string \n"
   ]
  },
  {
   "cell_type": "markdown",
   "id": "b714d026",
   "metadata": {},
   "source": [
    "#### 3. Describe three different data types."
   ]
  },
  {
   "cell_type": "markdown",
   "id": "2db87c15",
   "metadata": {},
   "source": [
    "Ans : there are main three data types in python which are as follows:\n",
    "1.\tinteger: this is a whole number without fraction component \n",
    "    example: 1, 3, 67\n",
    "\n",
    "2.\tFloat: float shows the decimal numbers \n",
    "    example: 2.3 ,44.6, 78.4\n",
    "\n",
    "3.\tString: strings are the sequence of character data   string is enclosed in quotes \n",
    "    example: “Rashmi”, “engineer”\n"
   ]
  },
  {
   "cell_type": "markdown",
   "id": "60d2266c",
   "metadata": {},
   "source": [
    "#### 4.What is an expression made up of? What do all expressions do?"
   ]
  },
  {
   "cell_type": "markdown",
   "id": "0d21841a",
   "metadata": {},
   "source": [
    "Ans: in python an expression is combination of values, variable , operators, and      function call expression needs to be evaluate If we ask Python to print an expression, the interpreter evaluates the expression and displays the result."
   ]
  },
  {
   "cell_type": "markdown",
   "id": "1f6d7b5d",
   "metadata": {},
   "source": [
    "#### 5.This assignment statements, like spam = 10. What is the difference between an expression and a statement?"
   ]
  },
  {
   "cell_type": "markdown",
   "id": "44a5ee87",
   "metadata": {},
   "source": [
    "Ans:  An expression is combination of values, variable , operators, and      function call expression needs to be evaluate If we ask Python to print an expression, the interpreter evaluates the expression and displays the result.\n",
    "\n",
    "\n",
    "A statement is a complete instruction or command which perform action. Statements can consist of expressions, but they can also include control structures (such as if-else, loops), assignments, function definitions, and more.\n"
   ]
  },
  {
   "cell_type": "markdown",
   "id": "c474ed73",
   "metadata": {},
   "source": [
    "#### 6. After running the following code, what does the variable bacon contain?\n",
    "bacon = 22\n",
    "\n",
    "\n",
    "\n",
    "bacon + 1\n"
   ]
  },
  {
   "cell_type": "markdown",
   "id": "6fa871a7",
   "metadata": {},
   "source": [
    "Ans: here the variable bacon contains 22\n",
    ".\n",
    "       \n",
    "because the in expression bacon+1 value does not get reassign\n"
   ]
  },
  {
   "cell_type": "code",
   "execution_count": 5,
   "id": "0c0b5d7f",
   "metadata": {},
   "outputs": [
    {
     "name": "stdout",
     "output_type": "stream",
     "text": [
      "22\n",
      "22\n"
     ]
    }
   ],
   "source": [
    "bacon = 22\n",
    "print (bacon)\n",
    "bacon +1\n",
    "print(bacon)"
   ]
  },
  {
   "cell_type": "markdown",
   "id": "f8b698c6",
   "metadata": {},
   "source": [
    "#### 7. What should the values of the following two terms be?\n",
    "'spam' + 'spamspam'\n",
    "\n",
    "'spam' * 3\n"
   ]
  },
  {
   "cell_type": "markdown",
   "id": "68d59068",
   "metadata": {},
   "source": [
    "Ans : both the expression gives the output  ‘spamspamspam’\n",
    "         First expression follows the string concatenation \n",
    "        Second expression follows string multiplication\n"
   ]
  },
  {
   "cell_type": "code",
   "execution_count": 9,
   "id": "fe841316",
   "metadata": {},
   "outputs": [
    {
     "name": "stdout",
     "output_type": "stream",
     "text": [
      "spamspamspam\n",
      "spamspamspam\n"
     ]
    }
   ],
   "source": [
    "print('spam' + 'spamspam')\n",
    "print('spam' * 3)"
   ]
  },
  {
   "cell_type": "markdown",
   "id": "2878b37e",
   "metadata": {},
   "source": [
    "#### 8. Why is eggs a valid variable name while 100 is invalid?"
   ]
  },
  {
   "cell_type": "markdown",
   "id": "3f5cdf19",
   "metadata": {},
   "source": [
    "Ans:  because the rule of declaration of  variable name is it should starts with letter or underscore character\n",
    "And here 100 stars with digit so it is invalid \n"
   ]
  },
  {
   "cell_type": "code",
   "execution_count": 16,
   "id": "f9702874",
   "metadata": {},
   "outputs": [
    {
     "ename": "SyntaxError",
     "evalue": "cannot assign to literal here. Maybe you meant '==' instead of '='? (Temp/ipykernel_2852/828424458.py, line 3)",
     "output_type": "error",
     "traceback": [
      "\u001b[1;36m  File \u001b[1;32m\"C:\\Users\\Rashmi\\AppData\\Local\\Temp/ipykernel_2852/828424458.py\"\u001b[1;36m, line \u001b[1;32m3\u001b[0m\n\u001b[1;33m    100 = 'data'\u001b[0m\n\u001b[1;37m    ^\u001b[0m\n\u001b[1;31mSyntaxError\u001b[0m\u001b[1;31m:\u001b[0m cannot assign to literal here. Maybe you meant '==' instead of '='?\n"
     ]
    }
   ],
   "source": [
    "egg = 'data_science' #valid\n",
    "print (egg)\n",
    "100 = 'data' # invalid"
   ]
  },
  {
   "cell_type": "markdown",
   "id": "97f90867",
   "metadata": {},
   "source": [
    "#### 9. What three functions can be used to get the integer, floating-point number, or string version of a value?"
   ]
  },
  {
   "cell_type": "markdown",
   "id": "22e34a85",
   "metadata": {},
   "source": [
    "Ans:  in python there are some function by using it we can change the type of provided variable\n",
    "\n",
    "for integer :-  int()     for float :-   float()        for string :-   str()\n"
   ]
  },
  {
   "cell_type": "code",
   "execution_count": 11,
   "id": "de759d14",
   "metadata": {},
   "outputs": [
    {
     "data": {
      "text/plain": [
       "(36, 36.0, '36')"
      ]
     },
     "execution_count": 11,
     "metadata": {},
     "output_type": "execute_result"
    }
   ],
   "source": [
    "int(36.6) , float(36), str(36)"
   ]
  },
  {
   "cell_type": "markdown",
   "id": "2fafe305",
   "metadata": {},
   "source": [
    "#### 10. Why does this expression cause an error? How can you fix it?\n",
    "'I have eaten ' + 99 + ' burritos.'\n"
   ]
  },
  {
   "cell_type": "markdown",
   "id": "9110abd0",
   "metadata": {},
   "source": [
    "Ans : in the case of string we can add string with only string but in above example we are adding string with integer that’s way its showing an error\n",
    "Here the solution is to use change the data type of integer to string using str()\n"
   ]
  },
  {
   "cell_type": "code",
   "execution_count": 12,
   "id": "870bfa05",
   "metadata": {},
   "outputs": [
    {
     "data": {
      "text/plain": [
       "' I have eaten99burritos'"
      ]
     },
     "execution_count": 12,
     "metadata": {},
     "output_type": "execute_result"
    }
   ],
   "source": [
    "\" I have eaten\"+ str(99) + \"burritos\""
   ]
  },
  {
   "cell_type": "markdown",
   "id": "8d75fdab",
   "metadata": {},
   "source": [
    "###                                                     completed!!!!!!!!!!!!!!!!!!!!!"
   ]
  },
  {
   "cell_type": "code",
   "execution_count": null,
   "id": "ce96dcbd",
   "metadata": {},
   "outputs": [],
   "source": []
  }
 ],
 "metadata": {
  "kernelspec": {
   "display_name": "Python 3 (ipykernel)",
   "language": "python",
   "name": "python3"
  },
  "language_info": {
   "codemirror_mode": {
    "name": "ipython",
    "version": 3
   },
   "file_extension": ".py",
   "mimetype": "text/x-python",
   "name": "python",
   "nbconvert_exporter": "python",
   "pygments_lexer": "ipython3",
   "version": "3.10.1"
  }
 },
 "nbformat": 4,
 "nbformat_minor": 5
}
