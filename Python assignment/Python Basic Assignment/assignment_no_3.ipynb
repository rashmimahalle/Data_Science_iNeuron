{
 "cells": [
  {
   "cell_type": "markdown",
   "id": "ea711560",
   "metadata": {},
   "source": [
    "                                        Assignment No 3\n",
    "                                           Solution"
   ]
  },
  {
   "cell_type": "markdown",
   "id": "68ffc8d2",
   "metadata": {},
   "source": [
    "####  1. Why are functions advantageous to have in your programs?"
   ]
  },
  {
   "cell_type": "markdown",
   "id": "861cd932",
   "metadata": {},
   "source": [
    "Functions reduce the need for duplicate code. This makes programs shorter, easier to read, and easier to update. The main advantage of functions is code Reusability."
   ]
  },
  {
   "cell_type": "markdown",
   "id": "fb75b347",
   "metadata": {},
   "source": [
    "#### 2. When does the code in a function run: when it's specified or when it's called?"
   ]
  },
  {
   "cell_type": "markdown",
   "id": "2034f5b3",
   "metadata": {},
   "source": [
    "When a function is called and starts executing the function."
   ]
  },
  {
   "cell_type": "markdown",
   "id": "9713a3e6",
   "metadata": {},
   "source": [
    "#### 3. What statement creates a function?"
   ]
  },
  {
   "cell_type": "code",
   "execution_count": 3,
   "id": "c05dd120",
   "metadata": {},
   "outputs": [],
   "source": [
    "def function_name(arg):\n",
    "    return arg"
   ]
  },
  {
   "cell_type": "markdown",
   "id": "426a262d",
   "metadata": {},
   "source": [
    "#### 4. What is the difference between a function and a function call?"
   ]
  },
  {
   "cell_type": "markdown",
   "id": "1dc985d8",
   "metadata": {},
   "source": [
    "function means a pre-coded task which will only perform if it is called this is where function call comes into picture to achieve the task."
   ]
  },
  {
   "cell_type": "markdown",
   "id": "0adf40af",
   "metadata": {},
   "source": [
    "#### 5. How many global scopes are there in a Python program? How many local scopes?"
   ]
  },
  {
   "cell_type": "markdown",
   "id": "88692b81",
   "metadata": {},
   "source": [
    "there is only one global scope per python program and remains there untill program is terminated.\n",
    "\n",
    "there can be as many local scopes as you in side a program because variable crearted inside a function can only be used in that space."
   ]
  },
  {
   "cell_type": "markdown",
   "id": "f9533cc0",
   "metadata": {},
   "source": [
    "#### 6. What happens to variables in a local scope when the function call returns?"
   ]
  },
  {
   "cell_type": "markdown",
   "id": "256e1014",
   "metadata": {},
   "source": [
    "variable in a local space is confined to that space of function can only be used in that function and therefore retains its value untill next time function is called"
   ]
  },
  {
   "cell_type": "markdown",
   "id": "0ace1ed2",
   "metadata": {},
   "source": [
    "#### 7. What is the concept of a return value? Is it possible to have a return value in an expression?"
   ]
  },
  {
   "cell_type": "markdown",
   "id": "d4a3733c",
   "metadata": {},
   "source": [
    "it is a special statement in a function used to sent result to caller who called function.\n",
    "\n",
    "yes it is possible to have return value in an expression."
   ]
  },
  {
   "cell_type": "markdown",
   "id": "8117fb31",
   "metadata": {},
   "source": [
    "#### 8. If a function does not have a return statement, what is the return value of a call to that function?"
   ]
  },
  {
   "cell_type": "markdown",
   "id": "01faae2e",
   "metadata": {},
   "source": [
    "It doesnt return any particular value for example if you want to addition of number it will perform addition but not return the results without return statement."
   ]
  },
  {
   "cell_type": "markdown",
   "id": "a7b69f96",
   "metadata": {},
   "source": [
    "#### 9. How do you make a function variable refer to the global variable?"
   ]
  },
  {
   "cell_type": "markdown",
   "id": "5645db8d",
   "metadata": {},
   "source": [
    "Global variable is a variable which is not connected to any particular function i.e it is free to be called in any function and also be reused. Therefore to refer a function variable to global variable we use global keyword to declare which variable are global"
   ]
  },
  {
   "cell_type": "markdown",
   "id": "f516b16b",
   "metadata": {},
   "source": [
    "#### 10. What is the data type of None?"
   ]
  },
  {
   "cell_type": "code",
   "execution_count": 6,
   "id": "d73d2c52",
   "metadata": {},
   "outputs": [
    {
     "data": {
      "text/plain": [
       "NoneType"
      ]
     },
     "execution_count": 6,
     "metadata": {},
     "output_type": "execute_result"
    }
   ],
   "source": [
    "type(None)"
   ]
  },
  {
   "cell_type": "markdown",
   "id": "d31538b6",
   "metadata": {},
   "source": [
    "#### 11. What does the sentence import areallyourpetsnamederic do?"
   ]
  },
  {
   "cell_type": "markdown",
   "id": "ebffece8",
   "metadata": {},
   "source": [
    "it will import areallyourpetnamederic module."
   ]
  },
  {
   "cell_type": "markdown",
   "id": "d19792d6",
   "metadata": {},
   "source": [
    "#### 12. If you had a bacon() feature in a spam module, what would you call it after importing spam?"
   ]
  },
  {
   "cell_type": "markdown",
   "id": "4acb6368",
   "metadata": {},
   "source": [
    "spam.bacon()"
   ]
  },
  {
   "cell_type": "markdown",
   "id": "fb28b832",
   "metadata": {},
   "source": [
    "#### 13. What can you do to save a programme from crashing if it encounters an error?"
   ]
  },
  {
   "cell_type": "markdown",
   "id": "2cc51a61",
   "metadata": {},
   "source": [
    "I will use try and catch for preventing crash"
   ]
  },
  {
   "cell_type": "markdown",
   "id": "49f19222",
   "metadata": {},
   "source": [
    "#### 14. What is the purpose of the try clause? What is the purpose of the except clause?"
   ]
  },
  {
   "cell_type": "markdown",
   "id": "f9ed96c0",
   "metadata": {},
   "source": [
    "TRY CLAUSE: try clause is used when you think that program can crash so you try to run the program and it crashes it wont disturb other part of program\n",
    "\n",
    "EXCEPT CLAUSE: except clause is used when you are trying a certain part of program but it fails so it used as a response to exception."
   ]
  },
  {
   "cell_type": "code",
   "execution_count": null,
   "id": "9346f970",
   "metadata": {},
   "outputs": [],
   "source": []
  }
 ],
 "metadata": {
  "kernelspec": {
   "display_name": "Python 3 (ipykernel)",
   "language": "python",
   "name": "python3"
  },
  "language_info": {
   "codemirror_mode": {
    "name": "ipython",
    "version": 3
   },
   "file_extension": ".py",
   "mimetype": "text/x-python",
   "name": "python",
   "nbconvert_exporter": "python",
   "pygments_lexer": "ipython3",
   "version": "3.11.5"
  }
 },
 "nbformat": 4,
 "nbformat_minor": 5
}
