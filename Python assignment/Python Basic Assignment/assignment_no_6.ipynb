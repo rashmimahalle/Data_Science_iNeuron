{
 "cells": [
  {
   "cell_type": "markdown",
   "id": "98f2535e",
   "metadata": {},
   "source": [
    "                                    Assignment No 6\n",
    "                                       Solution"
   ]
  },
  {
   "cell_type": "markdown",
   "id": "059fadc3",
   "metadata": {},
   "source": [
    "#### 1. What are keywords in python? Using the keyword library, print all the python keyword"
   ]
  },
  {
   "cell_type": "markdown",
   "id": "14fb4320",
   "metadata": {},
   "source": [
    "Definition: Keywords in Python are reserved words that cannot be used as ordinary identifiers. They are used to define the syntax and structure of the Python language."
   ]
  },
  {
   "cell_type": "code",
   "execution_count": 1,
   "id": "af993571",
   "metadata": {},
   "outputs": [],
   "source": [
    "import keyword"
   ]
  },
  {
   "cell_type": "code",
   "execution_count": 2,
   "id": "ae27b18f",
   "metadata": {},
   "outputs": [
    {
     "data": {
      "text/plain": [
       "['False',\n",
       " 'None',\n",
       " 'True',\n",
       " 'and',\n",
       " 'as',\n",
       " 'assert',\n",
       " 'async',\n",
       " 'await',\n",
       " 'break',\n",
       " 'class',\n",
       " 'continue',\n",
       " 'def',\n",
       " 'del',\n",
       " 'elif',\n",
       " 'else',\n",
       " 'except',\n",
       " 'finally',\n",
       " 'for',\n",
       " 'from',\n",
       " 'global',\n",
       " 'if',\n",
       " 'import',\n",
       " 'in',\n",
       " 'is',\n",
       " 'lambda',\n",
       " 'nonlocal',\n",
       " 'not',\n",
       " 'or',\n",
       " 'pass',\n",
       " 'raise',\n",
       " 'return',\n",
       " 'try',\n",
       " 'while',\n",
       " 'with',\n",
       " 'yield']"
      ]
     },
     "execution_count": 2,
     "metadata": {},
     "output_type": "execute_result"
    }
   ],
   "source": [
    "keyword.kwlist"
   ]
  },
  {
   "cell_type": "markdown",
   "id": "7dbcea6b",
   "metadata": {},
   "source": [
    "#### 2. What are the rules to create variables in python"
   ]
  },
  {
   "cell_type": "markdown",
   "id": "498a33cb",
   "metadata": {},
   "source": [
    "Definition: In Python, a variable is a named or location used to store data in memory.\n",
    "\n",
    "You can not use keywords as variables.\n",
    "\n",
    "Declaration and Assignment format: Variables are declared by writing the variable name and assigning it a value using the equals sign (=). "
   ]
  },
  {
   "cell_type": "code",
   "execution_count": 4,
   "id": "61bd8754",
   "metadata": {},
   "outputs": [
    {
     "data": {
      "text/plain": [
       "'Rashmi'"
      ]
     },
     "execution_count": 4,
     "metadata": {},
     "output_type": "execute_result"
    }
   ],
   "source": [
    "name = \"Rashmi\" \n",
    "name"
   ]
  },
  {
   "cell_type": "markdown",
   "id": "bea00ad0",
   "metadata": {},
   "source": [
    "#### 3. What are the standards and conventions followed for the nomenclature of variables inpython to improve code readability and maintainability"
   ]
  },
  {
   "cell_type": "markdown",
   "id": "fc4db8c2",
   "metadata": {},
   "source": [
    "Python is dynamically typed, which means that you don't have to declare the type of a variable when you create one. You can even change the type of data held by a variable at any time."
   ]
  },
  {
   "cell_type": "markdown",
   "id": "78ff7392",
   "metadata": {},
   "source": [
    "#### 4. What will happen if a keyword is used as a variable name?"
   ]
  },
  {
   "cell_type": "markdown",
   "id": "583096c6",
   "metadata": {},
   "source": [
    "You will find a SyntaxError."
   ]
  },
  {
   "cell_type": "code",
   "execution_count": 6,
   "id": "cd65e06f",
   "metadata": {},
   "outputs": [
    {
     "ename": "SyntaxError",
     "evalue": "invalid syntax (2479208488.py, line 1)",
     "output_type": "error",
     "traceback": [
      "\u001b[1;36m  Cell \u001b[1;32mIn[6], line 1\u001b[1;36m\u001b[0m\n\u001b[1;33m    class = 89\u001b[0m\n\u001b[1;37m          ^\u001b[0m\n\u001b[1;31mSyntaxError\u001b[0m\u001b[1;31m:\u001b[0m invalid syntax\n"
     ]
    }
   ],
   "source": [
    "class = 89"
   ]
  },
  {
   "cell_type": "markdown",
   "id": "2aa9d008",
   "metadata": {},
   "source": [
    "#### 5. For what purpose def keyword is used"
   ]
  },
  {
   "cell_type": "markdown",
   "id": "3abe6b25",
   "metadata": {},
   "source": [
    "They are used to define the syntax and structure of the Python language.\n",
    "\n",
    "Each keyword has a specific meaning and usage in Python programming. For instance, def is used for defining functions,\n",
    "\n",
    "if is used for making conditional statements, for and while are used for loops, class is used for defining a class, and so on."
   ]
  },
  {
   "cell_type": "markdown",
   "id": "6dd1d7ef",
   "metadata": {},
   "source": [
    "#### 6. What is the operation of this special character ‘\\’"
   ]
  },
  {
   "cell_type": "markdown",
   "id": "8742ce52",
   "metadata": {},
   "source": [
    "In Python strings, the backslash \"\" is a special character, also called the \"escape\" character.\n",
    "\n",
    "It is used in representing certain whitespace characters: \"\\t\" is a tab, \"\\n\" is a newline, and \"\\r\" is a carriage return.\n",
    "\n",
    "Conversely, prefixing a special character with \"\" turns it into an ordinary character."
   ]
  },
  {
   "cell_type": "markdown",
   "id": "87979879",
   "metadata": {},
   "source": [
    "#### 7. Give an example of the following conditions:\n",
    "(i) Homogeneous list\n",
    "\n",
    "(ii) Heterogeneous set\n",
    "\n",
    "(iii) Homogeneous tuple"
   ]
  },
  {
   "cell_type": "code",
   "execution_count": 12,
   "id": "a45445fd",
   "metadata": {},
   "outputs": [
    {
     "name": "stdout",
     "output_type": "stream",
     "text": [
      "[1, 2, 3, 4, 5, 6, 7]\n",
      "['a', 'b', 'c', 'd', 'e']\n"
     ]
    }
   ],
   "source": [
    "# Homogeneous list\n",
    "a = [ 1,2, 3, 4, 5, 6, 7]\n",
    "b = ['a', 'b', 'c', 'd','e']\n",
    "print(a)\n",
    "print(b)"
   ]
  },
  {
   "cell_type": "code",
   "execution_count": 13,
   "id": "6383cda2",
   "metadata": {},
   "outputs": [
    {
     "data": {
      "text/plain": [
       "{1, 2, 3, 4, 5, 6, 7, 'a', 'b', 'c', 'd', 'e'}"
      ]
     },
     "execution_count": 13,
     "metadata": {},
     "output_type": "execute_result"
    }
   ],
   "source": [
    "from typing_extensions import Concatenate\n",
    "# Heterogeneous set\n",
    "x = set(a + b)\n",
    "x"
   ]
  },
  {
   "cell_type": "code",
   "execution_count": 14,
   "id": "58b3ec63",
   "metadata": {},
   "outputs": [
    {
     "name": "stdout",
     "output_type": "stream",
     "text": [
      "[0, 2, 3, 4, 5, 6, 7]\n",
      "['a', 'b', 'c', 'd']\n",
      "[True, False]\n",
      "[1.1, 1.2, 1.3]\n"
     ]
    }
   ],
   "source": [
    "# Homogeneous tuple\n",
    "heterogeneous_t = (0,2,3,4,5,6,7, 'a', 'b', 'c', 'd', True, False, 1.1, 1.2, 1.3)\n",
    "tuple_1 = []\n",
    "tuple_2 = []\n",
    "tuple_3 = []\n",
    "tuple_4 = []\n",
    "for i in heterogeneous_t:\n",
    "    if type(i) == int:\n",
    "        tuple_1.append(i)\n",
    "    elif type(i) == str:\n",
    "        tuple_2.append(i)\n",
    "    elif type(i) == bool:\n",
    "        tuple_3.append(i)\n",
    "    elif type(i) == float:\n",
    "        tuple_4.append(i)\n",
    "print( tuple_1)\n",
    "print( tuple_2)\n",
    "print( tuple_3)\n",
    "print( tuple_4)"
   ]
  },
  {
   "cell_type": "markdown",
   "id": "cc210973",
   "metadata": {},
   "source": [
    "#### 8. Explain the mutable and immutable data types with proper explanation & examples."
   ]
  },
  {
   "cell_type": "markdown",
   "id": "3639f75c",
   "metadata": {},
   "source": [
    "Some of the mutable data types in Python are list, dictionary, set and user-defined classes.\n",
    "\n",
    "On the other hand, some of the immutable data types are int, float, decimal, bool, string, tuple, and ran"
   ]
  },
  {
   "cell_type": "code",
   "execution_count": 19,
   "id": "301cf185",
   "metadata": {},
   "outputs": [
    {
     "data": {
      "text/plain": [
       "['rashmi', 'manaswinee', 'samiksha']"
      ]
     },
     "execution_count": 19,
     "metadata": {},
     "output_type": "execute_result"
    }
   ],
   "source": [
    "list_name = ['rashmi', 'manaswinee', 'vaibhavi']\n",
    "list_name[2] = 'samiksha'          # A list is mutable because you can modify it.\n",
    "list_name"
   ]
  },
  {
   "cell_type": "code",
   "execution_count": 21,
   "id": "b2815170",
   "metadata": {},
   "outputs": [
    {
     "ename": "TypeError",
     "evalue": "'tuple' object does not support item assignment",
     "output_type": "error",
     "traceback": [
      "\u001b[1;31m---------------------------------------------------------------------------\u001b[0m",
      "\u001b[1;31mTypeError\u001b[0m                                 Traceback (most recent call last)",
      "Cell \u001b[1;32mIn[21], line 2\u001b[0m\n\u001b[0;32m      1\u001b[0m tuple_name \u001b[38;5;241m=\u001b[39m (\u001b[38;5;124m'\u001b[39m\u001b[38;5;124mrashmi\u001b[39m\u001b[38;5;124m'\u001b[39m, \u001b[38;5;124m'\u001b[39m\u001b[38;5;124mmanaswinee\u001b[39m\u001b[38;5;124m'\u001b[39m, \u001b[38;5;124m'\u001b[39m\u001b[38;5;124mvaibhavi\u001b[39m\u001b[38;5;124m'\u001b[39m)\n\u001b[1;32m----> 2\u001b[0m tuple_name[\u001b[38;5;241m2\u001b[39m] \u001b[38;5;241m=\u001b[39m \u001b[38;5;124m'\u001b[39m\u001b[38;5;124msamiksha\u001b[39m\u001b[38;5;124m'\u001b[39m          \u001b[38;5;66;03m# A list is mutable because you can modify it.\u001b[39;00m\n\u001b[0;32m      3\u001b[0m tuple_name\n",
      "\u001b[1;31mTypeError\u001b[0m: 'tuple' object does not support item assignment"
     ]
    }
   ],
   "source": [
    "tuple_name = ('rashmi', 'manaswinee', 'vaibhavi')\n",
    "tuple_name[2] = 'samiksha'          # A list is mutable because you can modify it.\n",
    "tuple_name"
   ]
  },
  {
   "cell_type": "markdown",
   "id": "ba8fbda8",
   "metadata": {},
   "source": [
    "#### 9. Write a code to create the given structure using only for loop.\n",
    "              *\n",
    "             ***\n",
    "            *****\n",
    "           *******\n",
    "          *********\n",
    "    "
   ]
  },
  {
   "cell_type": "code",
   "execution_count": 24,
   "id": "dbc652d4",
   "metadata": {},
   "outputs": [
    {
     "name": "stdout",
     "output_type": "stream",
     "text": [
      "         *          \n",
      "        ***         \n",
      "       *****        \n",
      "      *******       \n",
      "     *********      \n"
     ]
    }
   ],
   "source": [
    "a = 9\n",
    "\n",
    "for i in range(1, 10, 2):\n",
    "    print((''*a+i*'*').center(20, ' '))\n",
    "    a = a+1  "
   ]
  },
  {
   "cell_type": "markdown",
   "id": "39add911",
   "metadata": {},
   "source": [
    "#### 10. Write a code to create the given structure using while loop"
   ]
  },
  {
   "cell_type": "code",
   "execution_count": 26,
   "id": "07261ffa",
   "metadata": {},
   "outputs": [
    {
     "name": "stdout",
     "output_type": "stream",
     "text": [
      "||||||||| \n",
      " |||||||  \n",
      "  |||||   \n",
      "   |||    \n",
      "    |     \n"
     ]
    }
   ],
   "source": [
    "a = 0\n",
    "b = 5\n",
    "\n",
    "while a < 5:\n",
    "    print(((''*(a*2)+'|')*((b*2)-1)).center(10, ' '))\n",
    "    a += 1\n",
    "    b -= 1\n"
   ]
  },
  {
   "cell_type": "code",
   "execution_count": null,
   "id": "cebccbe1",
   "metadata": {},
   "outputs": [],
   "source": []
  }
 ],
 "metadata": {
  "kernelspec": {
   "display_name": "Python 3 (ipykernel)",
   "language": "python",
   "name": "python3"
  },
  "language_info": {
   "codemirror_mode": {
    "name": "ipython",
    "version": 3
   },
   "file_extension": ".py",
   "mimetype": "text/x-python",
   "name": "python",
   "nbconvert_exporter": "python",
   "pygments_lexer": "ipython3",
   "version": "3.11.5"
  }
 },
 "nbformat": 4,
 "nbformat_minor": 5
}
